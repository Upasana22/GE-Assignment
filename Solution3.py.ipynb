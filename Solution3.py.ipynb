{
  "nbformat": 4,
  "nbformat_minor": 0,
  "metadata": {
    "colab": {
      "name": "Solution1.ipynb",
      "provenance": [],
      "collapsed_sections": []
    },
    "kernelspec": {
      "name": "python3",
      "display_name": "Python 3"
    }
  },
  "cells": [
    {
      "cell_type": "code",
      "metadata": {
        "id": "Z8PG46V9Vk7w",
        "colab_type": "code",
        "colab": {}
      },
      "source": [
        "import re "
      ],
      "execution_count": 0,
      "outputs": []
    },
    {
      "cell_type": "code",
      "metadata": {
        "id": "i96pCIq5mbhz",
        "colab_type": "code",
        "colab": {
          "base_uri": "https://localhost:8080/",
          "height": 87
        },
        "outputId": "6a0358cd-da82-4a4c-9851-94397ae7ef3e"
      },
      "source": [
        "\"\"\"Code has been written inside Google colab.\n",
        "    Author - Upasana Tudu\n",
        "    Methods:\n",
        "    get_char_count() -> returns total no of readble characters\n",
        "    get_alphabet_count() -> returns total no of alphabets\n",
        "    get_word_count() -> returns total no of words\n",
        "    mostOccuredChar() -> returns total no of most commonly occuring character\n",
        "    \"\"\"\n",
        "class Analysis:\n",
        "    def __init__(self, testString):\n",
        "        self.__testString = testString\n",
        "    #\n",
        "    def get_char_count(self):\n",
        "      return len(re.findall(r'\\S',self.__testString))\n",
        "    \n",
        "    def get_alphabet_count(self):\n",
        "      alph = 0\n",
        "      for i in range(len(self.__testString)):\n",
        "        if(self.__testString[i].isalpha()):\n",
        "          alph = alph + 1\n",
        "          #print(alph)\n",
        "      return alph\n",
        "    \n",
        "    def get_word_count(self):\n",
        "         count = len(self.__testString.split())\n",
        "         return count\n",
        "    \n",
        "    def mostOccuredChar(self):        \n",
        "        d = {}\n",
        "        for ch in self.__testString.replace(' ', '').lower():\n",
        "            if ch in d:\n",
        "                d[ch] += 1\n",
        "            else:\n",
        "                d[ch] = 1\n",
        "        most_frequent = max(d, key=d.get)\n",
        "        return most_frequent, d[most_frequent]\n",
        "\n",
        "\n",
        "def main():    \n",
        "    testString = Analysis(\"This is a super long long long string. Please help count me\")\n",
        "   \n",
        "    print(\"There are\", testString.get_char_count(), \"readble characters in the string.\")\n",
        "    print(\"Total Number of Alphabets in this String :  \",testString.get_alphabet_count() )\n",
        "    print(\"There are\", testString.get_word_count(), \"words in the string.\")\n",
        "    letter, count = testString.mostOccuredChar()\n",
        "    print(\"The most frequent character is\", letter, \"which appeared\", count, \"times\")\n",
        "\n",
        "main()"
      ],
      "execution_count": 3,
      "outputs": [
        {
          "output_type": "stream",
          "text": [
            "There are 48 readble characters in the string.\n",
            "Total Number of Alphabets in this String :   47\n",
            "There are 12 words in the string.\n",
            "The most frequent character is s which appeared 5 times\n"
          ],
          "name": "stdout"
        }
      ]
    }
  ]
}